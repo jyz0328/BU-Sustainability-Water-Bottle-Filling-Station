{
 "cells": [
  {
   "cell_type": "markdown",
   "id": "ed63a4f9",
   "metadata": {},
   "source": [
    "[produce_kitchen_station_tables.ipynb] instruction\n",
    "\n",
    "This is our second step code. The input files needed for running this file is [Building and Kitchen List.xlsx] and [Bottle Fillers Inventory - ongoing.\n",
    "xlsx] in [original_data] folder , which are original Kitchen and Station data given by client.\n",
    "\n",
    "\n",
    "In this [produce_kitchen_station_tables.ipynb], we do data  Filter and Processing for original Kitchen and Station data, includes:\n",
    "\n",
    "1. For existed water stations, we combine address A and B into a full building description and retain only [Floor,Building Description,Space@Bu room,Quantity,Date Installed,Type]. \n",
    "2. For the kitchens, we retain only [ Floor, Building, Code,Building Description,Room #]. \n",
    "\n",
    "\n",
    "\n",
    "After running this code, we can get [Kitchens.csv] and [Stations.csv] in [new_data] folder as result data"
   ]
  },
  {
   "cell_type": "code",
   "execution_count": 1,
   "id": "260d3929",
   "metadata": {},
   "outputs": [],
   "source": [
    "import pandas as pd"
   ]
  },
  {
   "cell_type": "code",
   "execution_count": 2,
   "id": "5eebb024",
   "metadata": {},
   "outputs": [
    {
     "name": "stderr",
     "output_type": "stream",
     "text": [
      "/Library/Frameworks/Python.framework/Versions/3.10/lib/python3.10/site-packages/openpyxl/worksheet/_reader.py:329: UserWarning: Data Validation extension is not supported and will be removed\n",
      "  warn(msg)\n"
     ]
    }
   ],
   "source": [
    "stations_df = pd.read_excel('../original_data/Bottle Fillers Inventory - ongoing.xlsx', sheet_name='CRC')\n",
    "#stations_df = pd.read_excel('Bottle Fillers Inventory - ongoing.xlsx', sheet_name='CRC')"
   ]
  },
  {
   "cell_type": "code",
   "execution_count": 3,
   "id": "af29f4b3",
   "metadata": {},
   "outputs": [
    {
     "data": {
      "text/plain": [
       "Index(['Address A', 'Address B', 'Floor ', 'Description', 'Accessibility',\n",
       "       'Handicap Accessible', 'Space@Bu room', 'Quantity', 'Date Installed',\n",
       "       'Type', 'Walk-Thru Notes', 'Completed'],\n",
       "      dtype='object')"
      ]
     },
     "execution_count": 3,
     "metadata": {},
     "output_type": "execute_result"
    }
   ],
   "source": [
    "stations_df.columns"
   ]
  },
  {
   "cell_type": "code",
   "execution_count": 4,
   "id": "27015111",
   "metadata": {},
   "outputs": [],
   "source": [
    "# process the bottle filling stations\n",
    "cleaned_stations_df = pd.DataFrame()\n",
    "\n",
    "# first map the floor names to a number\n",
    "station_floor_mapping = {\n",
    "    'First': 1, 'Second': 2, 'Third': 3, 'Ninth': 9, 'Basement': -1, 'Fourth': 4, 'Fifth': 5, \n",
    "    'Sixth': 6, 'Eighth': 8, 'Seventh': 7, 'Tenth': 10, 'Eleventh': 11, 'Twelfth': 12, 'Thirteenth': 13, \n",
    "    'Fourteenth': 14, 'Fifteenth': 15, 'Sixteenth': 16, 'Seventeenth': 17, 'L1': -1, 'Production Area': 1,\n",
    "    'Lobby': 1, 'Ground': 1, 'Pool': -1\n",
    "}\n",
    "\n",
    "cleaned_stations_df['Floor'] = stations_df['Floor '].str.title().str.strip().map(station_floor_mapping)"
   ]
  },
  {
   "cell_type": "code",
   "execution_count": 5,
   "id": "d61e7e00",
   "metadata": {},
   "outputs": [],
   "source": [
    "# construct the full address\n",
    "cleaned_stations_df['Building Description'] = stations_df['Address A'].astype(str) + ' ' + stations_df['Address B'].str.upper()"
   ]
  },
  {
   "cell_type": "code",
   "execution_count": 6,
   "id": "9e78bb46",
   "metadata": {},
   "outputs": [],
   "source": [
    "# get the space@bu.edu, quantity, install date, and station type\n",
    "keep_columns = ['Space@Bu room', 'Quantity', 'Date Installed', 'Type']\n",
    "for keep_column in keep_columns:\n",
    "    cleaned_stations_df[keep_column] = stations_df[keep_column]"
   ]
  },
  {
   "cell_type": "code",
   "execution_count": 7,
   "id": "935ad2d7",
   "metadata": {},
   "outputs": [],
   "source": [
    "# manually add each individual floor in Warren\n",
    "cleaned_stations_df = pd.concat([\n",
    "    cleaned_stations_df,\n",
    "    pd.DataFrame({\n",
    "        'Floor': list(range(5, 19)), \n",
    "        'Building Description': 14 * ['700 COMMONWEALTH AVE'],\n",
    "        'Space@Bu room': None,\n",
    "        'Quantity': 2, # I'm guessing 2 here, because we split 30 among 14 floors so 2 is the closest integer\n",
    "        'Date Installed': 2022,\n",
    "        'Type': 'Tabletop Bottle Filler'\n",
    "    })\n",
    "], ignore_index=True)"
   ]
  },
  {
   "cell_type": "code",
   "execution_count": 8,
   "id": "b81e530d",
   "metadata": {},
   "outputs": [],
   "source": [
    "# drop rows that don't have a floor (these have been properly cleaned above already), \n",
    "# and sort by building description\n",
    "cleaned_stations_df = cleaned_stations_df[~cleaned_stations_df['Floor'].isna()]\n",
    "cleaned_stations_df.sort_values('Building Description', inplace=True)\n",
    "\n",
    "# cast Floor and Quantity to int\n",
    "cleaned_stations_df['Floor'] = cleaned_stations_df['Floor'].astype(int)\n",
    "cleaned_stations_df['Quantity'] = cleaned_stations_df['Quantity'].astype(int)"
   ]
  },
  {
   "cell_type": "code",
   "execution_count": 9,
   "id": "3ebd49e0",
   "metadata": {},
   "outputs": [
    {
     "data": {
      "text/html": [
       "<div>\n",
       "<style scoped>\n",
       "    .dataframe tbody tr th:only-of-type {\n",
       "        vertical-align: middle;\n",
       "    }\n",
       "\n",
       "    .dataframe tbody tr th {\n",
       "        vertical-align: top;\n",
       "    }\n",
       "\n",
       "    .dataframe thead th {\n",
       "        text-align: right;\n",
       "    }\n",
       "</style>\n",
       "<table border=\"1\" class=\"dataframe\">\n",
       "  <thead>\n",
       "    <tr style=\"text-align: right;\">\n",
       "      <th></th>\n",
       "      <th>Floor</th>\n",
       "      <th>Building Description</th>\n",
       "      <th>Space@Bu room</th>\n",
       "      <th>Quantity</th>\n",
       "      <th>Date Installed</th>\n",
       "      <th>Type</th>\n",
       "    </tr>\n",
       "  </thead>\n",
       "  <tbody>\n",
       "    <tr>\n",
       "      <th>131</th>\n",
       "      <td>1</td>\n",
       "      <td>1 UNIVERSITY RD</td>\n",
       "      <td>190A</td>\n",
       "      <td>1</td>\n",
       "      <td>NaN</td>\n",
       "      <td>NaN</td>\n",
       "    </tr>\n",
       "    <tr>\n",
       "      <th>205</th>\n",
       "      <td>1</td>\n",
       "      <td>1 UNIVERSITY RD</td>\n",
       "      <td>NaN</td>\n",
       "      <td>1</td>\n",
       "      <td>NaN</td>\n",
       "      <td>NaN</td>\n",
       "    </tr>\n",
       "    <tr>\n",
       "      <th>206</th>\n",
       "      <td>3</td>\n",
       "      <td>1 UNIVERSITY RD</td>\n",
       "      <td>390</td>\n",
       "      <td>1</td>\n",
       "      <td>NaN</td>\n",
       "      <td>NaN</td>\n",
       "    </tr>\n",
       "    <tr>\n",
       "      <th>132</th>\n",
       "      <td>2</td>\n",
       "      <td>1 UNIVERSITY RD</td>\n",
       "      <td>284</td>\n",
       "      <td>1</td>\n",
       "      <td>NaN</td>\n",
       "      <td>NaN</td>\n",
       "    </tr>\n",
       "    <tr>\n",
       "      <th>0</th>\n",
       "      <td>1</td>\n",
       "      <td>100 ASHFORD ST</td>\n",
       "      <td>191</td>\n",
       "      <td>1</td>\n",
       "      <td>NaN</td>\n",
       "      <td>Combo Bottle Filler/Drinking Fountain</td>\n",
       "    </tr>\n",
       "    <tr>\n",
       "      <th>...</th>\n",
       "      <td>...</td>\n",
       "      <td>...</td>\n",
       "      <td>...</td>\n",
       "      <td>...</td>\n",
       "      <td>...</td>\n",
       "      <td>...</td>\n",
       "    </tr>\n",
       "    <tr>\n",
       "      <th>170</th>\n",
       "      <td>3</td>\n",
       "      <td>928 COMMONWEALTH AVE</td>\n",
       "      <td>NaN</td>\n",
       "      <td>1</td>\n",
       "      <td>NaN</td>\n",
       "      <td>NaN</td>\n",
       "    </tr>\n",
       "    <tr>\n",
       "      <th>169</th>\n",
       "      <td>2</td>\n",
       "      <td>928 COMMONWEALTH AVE</td>\n",
       "      <td>291</td>\n",
       "      <td>1</td>\n",
       "      <td>NaN</td>\n",
       "      <td>NaN</td>\n",
       "    </tr>\n",
       "    <tr>\n",
       "      <th>168</th>\n",
       "      <td>1</td>\n",
       "      <td>928 COMMONWEALTH AVE</td>\n",
       "      <td>NaN</td>\n",
       "      <td>1</td>\n",
       "      <td>NaN</td>\n",
       "      <td>NaN</td>\n",
       "    </tr>\n",
       "    <tr>\n",
       "      <th>198</th>\n",
       "      <td>1</td>\n",
       "      <td>96 CUMMINGTON MALL</td>\n",
       "      <td>198</td>\n",
       "      <td>1</td>\n",
       "      <td>NaN</td>\n",
       "      <td>NaN</td>\n",
       "    </tr>\n",
       "    <tr>\n",
       "      <th>171</th>\n",
       "      <td>1</td>\n",
       "      <td>985 COMMONWEALTH AVE</td>\n",
       "      <td>190A</td>\n",
       "      <td>1</td>\n",
       "      <td>NaN</td>\n",
       "      <td>NaN</td>\n",
       "    </tr>\n",
       "  </tbody>\n",
       "</table>\n",
       "<p>220 rows × 6 columns</p>\n",
       "</div>"
      ],
      "text/plain": [
       "     Floor  Building Description Space@Bu room  Quantity Date Installed  \\\n",
       "131      1       1 UNIVERSITY RD          190A         1            NaN   \n",
       "205      1       1 UNIVERSITY RD           NaN         1            NaN   \n",
       "206      3       1 UNIVERSITY RD           390         1            NaN   \n",
       "132      2       1 UNIVERSITY RD           284         1            NaN   \n",
       "0        1        100 ASHFORD ST           191         1            NaN   \n",
       "..     ...                   ...           ...       ...            ...   \n",
       "170      3  928 COMMONWEALTH AVE           NaN         1            NaN   \n",
       "169      2  928 COMMONWEALTH AVE           291         1            NaN   \n",
       "168      1  928 COMMONWEALTH AVE           NaN         1            NaN   \n",
       "198      1    96 CUMMINGTON MALL           198         1            NaN   \n",
       "171      1  985 COMMONWEALTH AVE          190A         1            NaN   \n",
       "\n",
       "                                      Type  \n",
       "131                                    NaN  \n",
       "205                                    NaN  \n",
       "206                                    NaN  \n",
       "132                                    NaN  \n",
       "0    Combo Bottle Filler/Drinking Fountain  \n",
       "..                                     ...  \n",
       "170                                    NaN  \n",
       "169                                    NaN  \n",
       "168                                    NaN  \n",
       "198                                    NaN  \n",
       "171                                    NaN  \n",
       "\n",
       "[220 rows x 6 columns]"
      ]
     },
     "execution_count": 9,
     "metadata": {},
     "output_type": "execute_result"
    }
   ],
   "source": [
    "cleaned_stations_df"
   ]
  },
  {
   "cell_type": "code",
   "execution_count": 10,
   "id": "040f91d9",
   "metadata": {},
   "outputs": [],
   "source": [
    "# convert ST to STREET, AVE to AVENUE, and RD to ROAD\n",
    "def expand_end_abbreviation(building_description):\n",
    "    tokens = building_description.split()\n",
    "    end = tokens[-1]\n",
    "    if end == 'RD':\n",
    "        end = 'ROAD'\n",
    "    elif end == 'ST':\n",
    "        end = 'STREET'\n",
    "    elif end == 'AVE':\n",
    "        end = 'AVENUE'\n",
    "    return ' '.join(tokens[:-1] + [end])\n",
    "\n",
    "# s=set()\n",
    "# for bd in cleaned_stations_df['Building Description'].apply(expand_end_abbreviation):\n",
    "#     for token in bd.split():\n",
    "#         s.add(token)\n",
    "# s\n",
    "cleaned_stations_df['Building Description'] = cleaned_stations_df['Building Description'].apply(expand_end_abbreviation)"
   ]
  },
  {
   "cell_type": "code",
   "execution_count": 11,
   "id": "8064cbc5",
   "metadata": {},
   "outputs": [],
   "source": [
    "# export to csv\n",
    "cleaned_stations_df.to_csv('../new_data/Stations.csv', index=False)"
   ]
  },
  {
   "cell_type": "code",
   "execution_count": 12,
   "id": "4d5b9668",
   "metadata": {},
   "outputs": [],
   "source": [
    "kitchens_df = pd.read_excel('../original_data/Building and Kitchen List.xlsx', sheet_name='Rooms with Kitchens')\n",
    "#kitchens_df = pd.read_excel('Building and Kitchen List.xlsx', sheet_name='Rooms with Kitchens')"
   ]
  },
  {
   "cell_type": "code",
   "execution_count": 13,
   "id": "a6f68755",
   "metadata": {},
   "outputs": [
    {
     "data": {
      "text/plain": [
       "Index(['Site Code (SITECODE)', 'Building Code (BLDGCODE)',\n",
       "       'Building Description (BLDGDESC)', 'Building Type (BLDGTYPE)',\n",
       "       'Floor (FLOORCODE)', 'Room # (RMID)', 'Cost Object Code (GROUP_)',\n",
       "       'Cost Object Name (GROUPDESC)', 'FICM Code (SPACETYPE)',\n",
       "       'FICM Name (SPACETYPDS)', 'Area (AREA)', 'Room Name (RMNAME)',\n",
       "       'Room Note (RM_NOTE)', 'Classroom Use Extensions (EXTCLASS)',\n",
       "       'Office Facilities Room Use Extensions (EXTOFFICE)',\n",
       "       'General Use Facilities Room Use Extensions (EXTGENERAL)',\n",
       "       'Residential Facilities Room Use Extensions (EXTRESID)'],\n",
       "      dtype='object')"
      ]
     },
     "execution_count": 13,
     "metadata": {},
     "output_type": "execute_result"
    }
   ],
   "source": [
    "kitchens_df.columns"
   ]
  },
  {
   "cell_type": "code",
   "execution_count": 14,
   "id": "d3f28991",
   "metadata": {},
   "outputs": [],
   "source": [
    "def kitchen_floor_cleaner(floor):\n",
    "    if any(c.isnumeric() for c in floor):\n",
    "        return str(int(''.join([c for c in floor if c.isnumeric()])))\n",
    "    elif floor in ['B', 'BB', 'L1']:\n",
    "        return '-1'\n",
    "    elif floor in ['G', 'G1']:\n",
    "        return '1'\n",
    "    return floor"
   ]
  },
  {
   "cell_type": "code",
   "execution_count": 15,
   "id": "8b37c942",
   "metadata": {},
   "outputs": [],
   "source": [
    "# process the kitchens\n",
    "cleaned_kitchens_df = pd.DataFrame()\n",
    "\n",
    "# first clean the floor names\n",
    "cleaned_kitchens_df['Floor'] = kitchens_df['Floor (FLOORCODE)'].astype(str).str.strip().apply(kitchen_floor_cleaner)"
   ]
  },
  {
   "cell_type": "code",
   "execution_count": 16,
   "id": "b590c0e8",
   "metadata": {},
   "outputs": [],
   "source": [
    "# keep the bulding code, description (address), and room #\n",
    "cleaned_kitchens_df['Building Code'] = kitchens_df['Building Code (BLDGCODE)']\n",
    "cleaned_kitchens_df['Building Description'] = kitchens_df['Building Description (BLDGDESC)'].str.strip()\n",
    "cleaned_kitchens_df['Room #'] = kitchens_df['Room # (RMID)']"
   ]
  },
  {
   "cell_type": "code",
   "execution_count": 17,
   "id": "042d6793",
   "metadata": {},
   "outputs": [],
   "source": [
    "# sort by building description and export to csv\n",
    "cleaned_kitchens_df.sort_values('Building Description', inplace=True)\n",
    "cleaned_kitchens_df.to_csv('../new_data/Kitchens.csv', index=False)"
   ]
  }
 ],
 "metadata": {
  "kernelspec": {
   "display_name": "Python 3 (ipykernel)",
   "language": "python",
   "name": "python3"
  },
  "language_info": {
   "codemirror_mode": {
    "name": "ipython",
    "version": 3
   },
   "file_extension": ".py",
   "mimetype": "text/x-python",
   "name": "python",
   "nbconvert_exporter": "python",
   "pygments_lexer": "ipython3",
   "version": "3.10.5"
  }
 },
 "nbformat": 4,
 "nbformat_minor": 5
}
