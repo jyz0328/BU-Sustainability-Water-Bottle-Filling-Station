{
 "cells": [
  {
   "cell_type": "markdown",
   "metadata": {},
   "source": [
    "[wifi_data_process.ipynb] instruction\n",
    "\n",
    "This is our first step code. The input file needed for running this file is [updated_densitymap_hourly_cleaned.csv], which include origin wifi data (foot traffic data)given by client. However this input sheet is too large so we do not put it into github, you should download it from  [https://drive.google.com/drive/folders/11Zu-7h4pp9KWnJbkMMpTo6H_6xsmfzBb] and put into [original_data] folder before you run the code.\n",
    "[Building and Kitchen List.xlsx] in [original_data] folder is also required as the input file for this code.\n",
    "\n",
    "\n",
    "\n",
    "In this [wifi_data_process.ipynb], we do 2 Data Filter and Processing steps for original wifi data:\n",
    "\n",
    "1. We exclude Housing, and Commercial buildings because they're private . For residential buildings we only consider large dorm-style residences for similar reason. We also exclude parking building or floors since people usually do not stay long here. \n",
    "\n",
    "2. We simplify our analysis by calculating and focusing on hourly mean and max density counts for each floor. This helps us quickly identify when and where traffic peaks.\n",
    "\n",
    "\n",
    "After running this code, we can get [updated_wifi_data.csv] in [new_data] folder as result data\n",
    "\n"
   ]
  },
  {
   "cell_type": "code",
   "execution_count": 1,
   "metadata": {},
   "outputs": [],
   "source": [
    "import pandas as pd\n",
    "import numpy as np\n",
    "\n",
    "# READ CSV FILE\n",
    "df = pd.read_csv('../original_data/updated_densitymap_hourly_cleaned.csv')\n",
    "df['building_type'] = df['building_type'].str.strip()\n",
    "\n",
    "# exclude 'building_type' :  'Parking', 'Housing' 'Commercial' \n",
    "filtered_df = df[~df['building_type'].isin([ 'Parking', 'Housing', 'Commercial'])]\n",
    "\n",
    "\n",
    "# calculate max and mean density cnt based on same building floor and building desc\n",
    "# cnt refers to the number of people in the space at a given point in time\n",
    "grouped_values = filtered_df.groupby(['building_floor', 'building_desc'], as_index=False).agg(\n",
    "    mean_density_cnt=('density_cnt', 'mean'),\n",
    "    max_density_cnt=('density_cnt', 'max')\n",
    ")\n",
    "\n",
    "#only record first column for each same building floor + building description\n",
    "first_row_flags = filtered_df.groupby(['building_floor', 'building_desc']).cumcount() == 0\n",
    "representative_rows = filtered_df[first_row_flags]\n",
    "\n",
    "# add mean and max density into file\n",
    "final_representative_rows = pd.merge(representative_rows, grouped_values, on=['building_floor', 'building_desc'], how='left')\n",
    "\n",
    "# delete 'date'  'hour' 'density_cnt''dc_ratio'\n",
    "final_representative_rows_cleaned = final_representative_rows.drop(columns=['date', 'hour','density_cnt','dc_ratio'], errors='ignore')\n",
    "\n",
    "# add  'average_dc_ratio' and max dc ratio\n",
    "final_representative_rows_cleaned['average_dc_ratio'] = final_representative_rows_cleaned['mean_density_cnt'] / final_representative_rows_cleaned['capacity']\n",
    " \n",
    "final_representative_rows_cleaned['max_dc_ratio'] = final_representative_rows_cleaned['max_density_cnt'] / final_representative_rows_cleaned['capacity']\n",
    "\n",
    "# create processed file\n",
    "#final_representative_rows_cleaned.to_csv('pre_wifi_update.csv', index=False)\n",
    "\n",
    "#final_representative_rows_cleaned.head()"
   ]
  },
  {
   "cell_type": "markdown",
   "metadata": {},
   "source": [
    "now continue processing. for residential type, only remain Large Dormitory-Style type.\n",
    "\n",
    "this can be done by using Building and Kitchen List.xlsx."
   ]
  },
  {
   "cell_type": "code",
   "execution_count": 2,
   "metadata": {},
   "outputs": [
    {
     "data": {
      "text/plain": [
       "<bound method NDFrame.head of      building_floor                  building_desc  latitude  longitude  \\\n",
       "8                 1        771 COMMONWEALTH AVENUE   42.3510   -71.1080   \n",
       "9                 2        771 COMMONWEALTH AVENUE   42.3510   -71.1080   \n",
       "10                1        775 COMMONWEALTH AVENUE   42.3509   -71.1090   \n",
       "11                1              1 UNIVERSITY ROAD   42.3512   -71.1100   \n",
       "12                1  745 - 755 COMMONWEALTH AVENUE   42.3505   -71.1073   \n",
       "...             ...                            ...       ...        ...   \n",
       "1134              3    617-621 COMMONWEALTH AVENUE   42.3497   -71.1013   \n",
       "1135              p             100 BAY STATE ROAD   42.3498   -71.0979   \n",
       "1136             81              91 BAY STATE ROAD   42.3503   -71.0970   \n",
       "1138              A        700 COMMONWEALTH AVENUE   42.3493   -71.1040   \n",
       "1139              W             140 BAY STATE ROAD   42.3500   -71.0998   \n",
       "\n",
       "        building_type  capacity  mean_density_cnt  max_density_cnt  \\\n",
       "8     Student Support        73         25.448998              309   \n",
       "9     Student Support        92         30.477226              283   \n",
       "10    Student Support       534         78.563533              534   \n",
       "11           Academic       307         51.585595              351   \n",
       "12           Academic       129         40.219413              319   \n",
       "...               ...       ...               ...              ...   \n",
       "1134         Academic        30          1.202381                3   \n",
       "1135  Student Support         0          1.217391                2   \n",
       "1136      Residential         0          1.500000                2   \n",
       "1138      Residential         0          1.529070                6   \n",
       "1139      Residential         0          3.993976               12   \n",
       "\n",
       "      average_dc_ratio  max_dc_ratio Residential Building Type  \n",
       "8             0.348616      4.232877                            \n",
       "9             0.331274      3.076087                            \n",
       "10            0.147123      1.000000                            \n",
       "11            0.168031      1.143322                            \n",
       "12            0.311778      2.472868                            \n",
       "...                ...           ...                       ...  \n",
       "1134          0.040079      0.100000                            \n",
       "1135               inf           inf                            \n",
       "1136               inf           inf     Large Dormitory-Style  \n",
       "1138               inf           inf     Large Dormitory-Style  \n",
       "1139               inf           inf     Large Dormitory-Style  \n",
       "\n",
       "[542 rows x 11 columns]>"
      ]
     },
     "execution_count": 2,
     "metadata": {},
     "output_type": "execute_result"
    }
   ],
   "source": [
    "#wifi_df = pd.read_csv('pre_wifi_update.csv')\n",
    "wifi_df = final_representative_rows_cleaned\n",
    "\n",
    "# read excel\n",
    "#building_list_df = pd.read_excel('../original_data/Building and Kitchen List.xlsx')\n",
    "building_list_df = pd.read_excel('../original_data/Building and Kitchen List.xlsx')\n",
    "\n",
    "# Identify all housing types labeled \"Large Dormitory Style\" from the Excel file\n",
    "large_dormitory_buildings = building_list_df[building_list_df['Residential Building Type'] == 'Large Dormitory-Style']['Building Description'].unique()\n",
    "# Add the \"Residential Building Type\" column and set it to an empty string by default\n",
    "wifi_df['Residential Building Type'] = ''\n",
    "\n",
    "# Set \"Residential Building Type\" for rows that meet the criteria\n",
    "wifi_df.loc[wifi_df['building_type'].str.contains('Residential') & wifi_df['building_desc'].isin(large_dormitory_buildings), 'Residential Building Type'] = 'Large Dormitory-Style'\n",
    "\n",
    "# Filter data in wifi_update.csv\n",
    "# Keep all rows for non-residential types, for residential types, only those that belong to the \"Large Dormitory Style\"\n",
    "filtered_wifi_df = wifi_df[\n",
    "    (~wifi_df['building_type'].str.contains('Residential')) |\n",
    "    (wifi_df['building_type'].str.contains('Residential') & wifi_df['building_desc'].isin(large_dormitory_buildings))\n",
    "]\n",
    "output_file_path = '../new_data/updated_wifi_data.csv'\n",
    "\n",
    "filtered_wifi_df.to_csv(output_file_path, index=False)\n",
    "filtered_wifi_df.head"
   ]
  }
 ],
 "metadata": {
  "kernelspec": {
   "display_name": "Python 3",
   "language": "python",
   "name": "python3"
  },
  "language_info": {
   "codemirror_mode": {
    "name": "ipython",
    "version": 3
   },
   "file_extension": ".py",
   "mimetype": "text/x-python",
   "name": "python",
   "nbconvert_exporter": "python",
   "pygments_lexer": "ipython3",
   "version": "3.10.5"
  },
  "orig_nbformat": 4,
  "vscode": {
   "interpreter": {
    "hash": "e7370f93d1d0cde622a1f8e1c04877d8463912d04d973331ad4851f04de6915a"
   }
  }
 },
 "nbformat": 4,
 "nbformat_minor": 2
}
